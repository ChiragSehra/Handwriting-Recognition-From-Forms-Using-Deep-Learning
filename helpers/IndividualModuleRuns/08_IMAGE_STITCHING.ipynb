{
 "cells": [
  {
   "cell_type": "code",
   "execution_count": 1,
   "metadata": {},
   "outputs": [],
   "source": [
    "import numpy as np\n",
    "import cv2\n",
    "import os"
   ]
  },
  {
   "cell_type": "code",
   "execution_count": 2,
   "metadata": {},
   "outputs": [],
   "source": [
    "rootDir = \"../../temporaryResults/imageSegmented/\"\n",
    "user_id = \"2074896\""
   ]
  },
  {
   "cell_type": "code",
   "execution_count": 9,
   "metadata": {},
   "outputs": [],
   "source": [
    "def imageStitching(user_id, form_side):\n",
    "    try:\n",
    "        rootDir = \"../../temporaryResults/imageSegmented/\"\n",
    "        front_folders_90_109 = ['first_name', 'last_name', 'aadhar_number', 'present_address', 'student_mobile_number',\n",
    "                                'email', 'disability', 'percentage_of_disability', 'father_first_name', 'father_last_name',\n",
    "                                'father_occupation', 'father_mobile_number', 'father_annual_income', 'father_email_id',\n",
    "                                'mother_first_name', 'mother_last_name', 'mother_occupation', 'mother_mobile_number',\n",
    "                                'mother_annual_income', 'mother_email_id', 'annual_fee', 'previous_class_passing_year',\n",
    "                                'marks_obtained', 'total_marks']\n",
    "        back_folders_95_112 = ['class_10_total_marks', 'class_10_marks_obtained', 'class_12_passing_year', 'class_12_total_marks',\n",
    "                               'class_12_marks_obtained', 'graduation_total_marks', 'graduation_marks_obtained', 'graduation_passing_year',\n",
    "                               'post_graduation_total_marks', 'post_graduation_marks_obtained', 'post_graduation_passing_year',\n",
    "                               'bank_name', 'ifsc_code', 'account_number', 'account_holder_name', 'relation_with_account_holder'\n",
    "                               ]\n",
    "        \n",
    "        if form_side == 'front':\n",
    "            for i in front_folders_90_109[:]:\n",
    "                globalImage = np.zeros((90, 109))\n",
    "                for a, b, c in os.walk(rootDir + user_id + \"/\" + i):\n",
    "                    sortedList = sorted(c, key=lambda x: int(x.split('.')[0].split('_')[-1]))\n",
    "                    #         print(sortedList)\n",
    "                    for f in sortedList:\n",
    "                        img = cv2.imread(rootDir + user_id + '/' + i + '/' + str(f), 0)\n",
    "                        globalImage = np.concatenate((globalImage, img), axis=1)\n",
    "                    #             plt.figure()\n",
    "                    #             plt.imshow(globalImage)\n",
    "                    #         print(\"file is being saved to: {}\".format(rootDir+i+'/'+i))\n",
    "                    cv2.imwrite(rootDir + user_id + '/' + i + '/' + i + '.jpg', globalImage)\n",
    "                    print(\"[INFO]: Saving File to {}...\".format(rootDir + user_id + '/' + i + '/' + i + '.jpg'))\n",
    "\n",
    "        if form_side == 'back':\n",
    "            for i in back_folders_95_112[:]:\n",
    "                globalImage = np.zeros((95, 112))\n",
    "                for a, b, c in os.walk(rootDir + user_id + \"/\" + i):\n",
    "                    sortedList = sorted(c, key=lambda x: int(x.split('.')[0].split('_')[-1]))\n",
    "                    #         print(sortedList)\n",
    "                    for f in sortedList:\n",
    "                        img = cv2.imread(rootDir + user_id + '/' + i + '/' + str(f), 0)\n",
    "                        globalImage = np.concatenate((globalImage, img), axis=1)\n",
    "                    #             plt.figure()\n",
    "                    #             plt.imshow(globalImage)\n",
    "                    #         print(\"file is being saved to: {}\".format(rootDir+i+'/'+i))\n",
    "                    cv2.imwrite(rootDir + user_id + '/' + i + '/' + i + '.jpg', globalImage)\n",
    "                    print(\"[INFO]: Saving File to {}...\".format(rootDir + user_id + '/' + i + '/' + i + '.jpg'))\n",
    "\n",
    "        folders_112_95 = ['date_of_birth']\n",
    "        if form_side == 'front':\n",
    "            for i in folders_112_95[:]:\n",
    "                globalImage = np.zeros((95, 112))\n",
    "                for a, b, c in os.walk(rootDir + user_id + \"/\" + i):\n",
    "                    sortedList = sorted(c, key=lambda x: int(x.split('.')[0].split('_')[-1]))\n",
    "                    #         print(sortedList)\n",
    "                    for f in sortedList:\n",
    "                        img = cv2.imread(rootDir + user_id + '/' + i + '/' + str(f), 0)\n",
    "                        globalImage = np.concatenate((globalImage, img), axis=1)\n",
    "                    #             plt.figure()\n",
    "                    #             plt.imshow(globalImage)\n",
    "                    #         print(\"file is being saved to: {}\".format(rootDir+i+'/'+i))\n",
    "                    cv2.imwrite(rootDir + user_id + '/' + i + '/' + i + '.jpg', globalImage)\n",
    "                    print(\"[INFO]: Saving File to {}...\".format(rootDir + user_id + '/' + i + '/' + i + '.jpg'))\n",
    "    except ValueError as e:\n",
    "        raise Exception('Entry for user_id {0} already exists'.format(user_id))\n"
   ]
  },
  {
   "cell_type": "code",
   "execution_count": 10,
   "metadata": {},
   "outputs": [
    {
     "ename": "Exception",
     "evalue": "Entry for user_id BANDANA already exists",
     "output_type": "error",
     "traceback": [
      "\u001b[0;31m---------------------------------------------------------------------------\u001b[0m",
      "\u001b[0;31mException\u001b[0m                                 Traceback (most recent call last)",
      "\u001b[0;32m<ipython-input-10-45bf03b6d1ef>\u001b[0m in \u001b[0;36m<module>\u001b[0;34m()\u001b[0m\n\u001b[1;32m      1\u001b[0m \u001b[0muser_id\u001b[0m \u001b[0;34m=\u001b[0m \u001b[0;34m\"BANDANA\"\u001b[0m\u001b[0;34m\u001b[0m\u001b[0;34m\u001b[0m\u001b[0m\n\u001b[0;32m----> 2\u001b[0;31m \u001b[0mimageStitching\u001b[0m\u001b[0;34m(\u001b[0m\u001b[0muser_id\u001b[0m\u001b[0;34m,\u001b[0m\u001b[0;34m'front'\u001b[0m\u001b[0;34m)\u001b[0m\u001b[0;34m\u001b[0m\u001b[0;34m\u001b[0m\u001b[0m\n\u001b[0m",
      "\u001b[0;32m<ipython-input-9-ee87d03accb3>\u001b[0m in \u001b[0;36mimageStitching\u001b[0;34m(user_id, form_side)\u001b[0m\n\u001b[1;32m     69\u001b[0m     \u001b[0;32mexcept\u001b[0m \u001b[0mValueError\u001b[0m \u001b[0;32mas\u001b[0m \u001b[0me\u001b[0m\u001b[0;34m:\u001b[0m\u001b[0;34m\u001b[0m\u001b[0;34m\u001b[0m\u001b[0m\n\u001b[1;32m     70\u001b[0m \u001b[0;31m#         print(\"[ERROR]: Entry for user_id {0} already exists.\".format(user_id))\u001b[0m\u001b[0;34m\u001b[0m\u001b[0;34m\u001b[0m\u001b[0;34m\u001b[0m\u001b[0m\n\u001b[0;32m---> 71\u001b[0;31m         \u001b[0;32mraise\u001b[0m \u001b[0mException\u001b[0m\u001b[0;34m(\u001b[0m\u001b[0;34m'Entry for user_id {0} already exists'\u001b[0m\u001b[0;34m.\u001b[0m\u001b[0mformat\u001b[0m\u001b[0;34m(\u001b[0m\u001b[0muser_id\u001b[0m\u001b[0;34m)\u001b[0m\u001b[0;34m)\u001b[0m\u001b[0;34m\u001b[0m\u001b[0;34m\u001b[0m\u001b[0m\n\u001b[0m",
      "\u001b[0;31mException\u001b[0m: Entry for user_id BANDANA already exists"
     ]
    }
   ],
   "source": [
    "user_id = \"BANDANA\"\n",
    "imageStitching(user_id,'front')"
   ]
  },
  {
   "cell_type": "code",
   "execution_count": null,
   "metadata": {},
   "outputs": [],
   "source": []
  }
 ],
 "metadata": {
  "kernelspec": {
   "display_name": "Python 2",
   "language": "python",
   "name": "python2"
  },
  "language_info": {
   "codemirror_mode": {
    "name": "ipython",
    "version": 2
   },
   "file_extension": ".py",
   "mimetype": "text/x-python",
   "name": "python",
   "nbconvert_exporter": "python",
   "pygments_lexer": "ipython2",
   "version": "2.7.15+"
  }
 },
 "nbformat": 4,
 "nbformat_minor": 2
}
