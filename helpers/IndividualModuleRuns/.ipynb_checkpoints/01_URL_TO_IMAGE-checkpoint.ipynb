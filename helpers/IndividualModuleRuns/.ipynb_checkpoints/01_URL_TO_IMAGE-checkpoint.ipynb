{
 "cells": [
  {
   "cell_type": "code",
   "execution_count": 1,
   "metadata": {},
   "outputs": [],
   "source": [
    "s3_url = \"https://s3-ap-southeast-1.amazonaws.com/cdn.buddy4study.com/static/user_docs/2019/09/07/2092561/SCAN22147EGHYE.JPG\""
   ]
  },
  {
   "cell_type": "code",
   "execution_count": 7,
   "metadata": {},
   "outputs": [],
   "source": [
    "## Importing libraries\n",
    "import numpy as np\n",
    "# import urllib.request\n",
    "from urllib import urlopen\n",
    "import cv2\n",
    "\n",
    "\n",
    "# METHOD #1: OpenCV, NumPy, and urllib\n",
    "def url_to_image(image_url):\n",
    "    # download the image, convert it to a NumPy array, and then read\n",
    "    # it into OpenCV format\n",
    "    resp = urlopen(image_url)\n",
    "    image = np.asarray(bytearray(resp.read()), dtype=\"uint8\")\n",
    "    image = cv2.imdecode(image, cv2.IMREAD_COLOR)\n",
    "    print(\"Width and Height of Original Image are :  {0} and {1}\".format(image.shape[1],image.shape[0]))\n",
    "    return image\n",
    "\n",
    "# s3_url = \"\"\n",
    "# image = url_to_image(image_url=s3_url)\n"
   ]
  },
  {
   "cell_type": "code",
   "execution_count": 8,
   "metadata": {},
   "outputs": [
    {
     "name": "stdout",
     "output_type": "stream",
     "text": [
      "Width and Height of Original Image are :  2480 and 3504\n"
     ]
    }
   ],
   "source": [
    "image = url_to_image(image_url=s3_url)"
   ]
  },
  {
   "cell_type": "code",
   "execution_count": null,
   "metadata": {},
   "outputs": [],
   "source": []
  }
 ],
 "metadata": {
  "kernelspec": {
   "display_name": "Python 2",
   "language": "python",
   "name": "python2"
  },
  "language_info": {
   "codemirror_mode": {
    "name": "ipython",
    "version": 2
   },
   "file_extension": ".py",
   "mimetype": "text/x-python",
   "name": "python",
   "nbconvert_exporter": "python",
   "pygments_lexer": "ipython2",
   "version": "2.7.15+"
  }
 },
 "nbformat": 4,
 "nbformat_minor": 2
}
