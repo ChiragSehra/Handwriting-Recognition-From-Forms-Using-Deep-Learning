{
 "cells": [
  {
   "cell_type": "code",
   "execution_count": 2,
   "metadata": {},
   "outputs": [],
   "source": [
    "# importing libraries\n",
    "import cv2\n",
    "import pandas as pd\n",
    "import xml.etree.ElementTree as ET"
   ]
  },
  {
   "cell_type": "code",
   "execution_count": 15,
   "metadata": {},
   "outputs": [],
   "source": [
    "def templateMatcher(formSide):\n",
    "    front_template_file = '../../XMLs/frontTemplate.xml'\n",
    "    back_template_file = '../../XMLs/backTemplate.xml'\n",
    "\n",
    "    if formSide == 'front':\n",
    "        template_file = front_template_file\n",
    "    else:\n",
    "        template_file = back_template_file\n",
    "    # template_file = front_template_file\n",
    "    # empty list\n",
    "    dumps = list ()\n",
    "\n",
    "    # contains the annotations form the template file being used\n",
    "    annotations = template_file\n",
    "    # print(\"Annotations : {}\".format(annotations))\n",
    "    # opening the template XML file\n",
    "    in_file = open (template_file)\n",
    "\n",
    "    # print(\"in file {}\".format(in_file))\n",
    "    # tree structure of the template file\n",
    "    tree = ET.parse (in_file)\n",
    "    # print(\"Tree : {}\".format(tree))\n",
    "    # root element of the tree i.e. starting of the XML tree\n",
    "    root = tree.getroot ()\n",
    "\n",
    "    # image file name as mentioned in the XML file\n",
    "    jpg = annotations.split ('.')[0] + '.jpg'\n",
    "    # Image Size as mentioned in the XML file\n",
    "    imsize = root.find ('size')\n",
    "\n",
    "    # Width and Height of the Image as mentioned in the XML Tree\n",
    "    image = cv2.imread (\"../../temporaryResults/cropped.jpg\", 0)\n",
    "    # w = int(imsize.find('width').text)\n",
    "    # h = int(imsize.find('height').text)\n",
    "    w = image.shape[1]\n",
    "    h = image.shape[0]\n",
    "\n",
    "    # Empty list\n",
    "    all = list ()\n",
    "    # Loop that saves all the information about a field in the \"all\" list\n",
    "    for obj in root.iter ('object'):\n",
    "        current = list ()\n",
    "        name = obj.find ('name').text\n",
    "        folder = obj.find ('folder').text\n",
    "        xmlbox = obj.find ('bndbox')\n",
    "        xn = int (float (xmlbox.find ('xmin').text))\n",
    "        xx = int (float (xmlbox.find ('xmax').text))\n",
    "        yn = int (float (xmlbox.find ('ymin').text))\n",
    "        yx = int (float (xmlbox.find ('ymax').text))\n",
    "        current += [jpg, w, h, name, folder, xn, yn, xx, yx]\n",
    "        all += [current]\n",
    "    data = pd.DataFrame (all, columns = ['path', 'width', 'height', 'label', 'folder', 'xmin', 'ymin', 'xmax', 'ymax'])\n",
    "    print(\"[INFO]: Saving Template Matching File\")\n",
    "    data.to_csv (\"../../temporaryResults/templateMatcher_data.csv\")\n",
    "    # Closing the template file\n",
    "    in_file.close ()\n",
    "    print (\"[PROCESS COMPLETION]: Template Matching Completed..!\")"
   ]
  },
  {
   "cell_type": "code",
   "execution_count": 16,
   "metadata": {},
   "outputs": [
    {
     "name": "stdout",
     "output_type": "stream",
     "text": [
      "[INFO]: Saving Template Matching File\n",
      "[PROCESS COMPLETION]: Template Matching Completed..!\n"
     ]
    }
   ],
   "source": [
    "templateMatcher(formSide=\"front\")"
   ]
  },
  {
   "cell_type": "code",
   "execution_count": null,
   "metadata": {},
   "outputs": [],
   "source": []
  }
 ],
 "metadata": {
  "kernelspec": {
   "display_name": "Python 2",
   "language": "python",
   "name": "python2"
  },
  "language_info": {
   "codemirror_mode": {
    "name": "ipython",
    "version": 2
   },
   "file_extension": ".py",
   "mimetype": "text/x-python",
   "name": "python",
   "nbconvert_exporter": "python",
   "pygments_lexer": "ipython2",
   "version": "2.7.15+"
  }
 },
 "nbformat": 4,
 "nbformat_minor": 2
}
