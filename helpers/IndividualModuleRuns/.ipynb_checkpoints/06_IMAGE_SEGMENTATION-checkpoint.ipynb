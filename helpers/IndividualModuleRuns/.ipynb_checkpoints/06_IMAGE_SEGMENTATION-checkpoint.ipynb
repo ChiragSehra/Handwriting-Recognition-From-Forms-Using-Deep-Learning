{
 "cells": [
  {
   "cell_type": "code",
   "execution_count": 1,
   "metadata": {},
   "outputs": [],
   "source": [
    "import cv2\n",
    "import os\n",
    "import pandas as pd"
   ]
  },
  {
   "cell_type": "code",
   "execution_count": 2,
   "metadata": {},
   "outputs": [],
   "source": [
    "def imageSegmentation(userId):\n",
    "    img = cv2.imread(\"../temporaryResults/output.png\")\n",
    "    data = pd.read_csv(\"../temporaryResults/templateMatcher_data.csv\")\n",
    "    for i, row in data.iterrows():\n",
    "        x1 = row['xmin']\n",
    "        y1 = row['ymin']\n",
    "        x2 = row['xmax']\n",
    "        y2 = row['ymax']\n",
    "        #     print(\"Coodinates: {0},{1},{2},{3}\".format(x1,y1,x2,y2))\n",
    "        image = img[y1:y2, x1:x2]\n",
    "        gray = cv2.cvtColor(image, cv2.COLOR_BGR2GRAY)\n",
    "        thresh, bnw = cv2.threshold(gray, 0, 255, cv2.THRESH_BINARY_INV + cv2.THRESH_OTSU)\n",
    "        path1 = row.folder\n",
    "        image_path = row.label\n",
    "        crop_folder_path = '../temporaryResults/imageSegmented/' + str(userId) + '/' + path1\n",
    "        crop_image_path = crop_folder_path + '/' + image_path + '.jpg'\n",
    "        #     print(image_path)\n",
    "        #     print(\"path1: \"+str(path1))\n",
    "        #     print(\"crop_folder_path is: \"+str(crop_folder_path))\n",
    "        #     print(\"crop_image_path is :\"+str(crop_image_path))\n",
    "        if os.path.exists(crop_folder_path):\n",
    "            print('Image is segmented into {0} directory'.format(crop_folder_path))\n",
    "            cv2.imwrite(crop_image_path, bnw)\n",
    "        if not os.path.exists(crop_folder_path):\n",
    "            print(\"Creation of directory {0} successful\".format(crop_folder_path))\n",
    "            original_umask = os.umask(0)\n",
    "            os.makedirs(crop_folder_path, 0o777)\n",
    "            os.umask(original_umask)\n",
    "            print('Image is segmented into {0} directory'.format(crop_folder_path))\n",
    "            cv2.imwrite(crop_image_path, bnw)\n",
    "    print(\"Image Segmentation Complete..!\")\n"
   ]
  },
  {
   "cell_type": "code",
   "execution_count": null,
   "metadata": {},
   "outputs": [],
   "source": [
    "user_id = \"Sarita\"\n",
    "imageSegmentation(userId=user_id)"
   ]
  }
 ],
 "metadata": {
  "kernelspec": {
   "display_name": "Python 2",
   "language": "python",
   "name": "python2"
  },
  "language_info": {
   "codemirror_mode": {
    "name": "ipython",
    "version": 2
   },
   "file_extension": ".py",
   "mimetype": "text/x-python",
   "name": "python",
   "nbconvert_exporter": "python",
   "pygments_lexer": "ipython2",
   "version": "2.7.15+"
  }
 },
 "nbformat": 4,
 "nbformat_minor": 2
}
