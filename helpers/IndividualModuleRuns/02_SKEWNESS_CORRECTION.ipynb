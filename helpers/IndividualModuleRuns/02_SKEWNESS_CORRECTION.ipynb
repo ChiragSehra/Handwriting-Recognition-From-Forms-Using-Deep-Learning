{
 "cells": [
  {
   "cell_type": "code",
   "execution_count": 5,
   "metadata": {},
   "outputs": [],
   "source": [
    "import numpy as np\n",
    "import cv2\n"
   ]
  },
  {
   "cell_type": "code",
   "execution_count": 6,
   "metadata": {},
   "outputs": [
    {
     "name": "stdout",
     "output_type": "stream",
     "text": [
      "Width and Height of Original Image are :  2480 and 3504\n"
     ]
    }
   ],
   "source": [
    "s3_url = \"https://s3-ap-southeast-1.amazonaws.com/cdn.buddy4study.com/static/user_docs/2019/09/07/2092561/SCAN22147EGHYE.JPG\"\n",
    "\n",
    "## Importing libraries\n",
    "import numpy as np\n",
    "# import urllib.request\n",
    "from urllib import urlopen\n",
    "import cv2\n",
    "\n",
    "\n",
    "# METHOD #1: OpenCV, NumPy, and urllib\n",
    "def url_to_image(image_url):\n",
    "    # download the image, convert it to a NumPy array, and then read\n",
    "    # it into OpenCV format\n",
    "    resp = urlopen(image_url)\n",
    "    image = np.asarray(bytearray(resp.read()), dtype=\"uint8\")\n",
    "    image = cv2.imdecode(image, cv2.IMREAD_COLOR)\n",
    "    print(\"Width and Height of Original Image are :  {0} and {1}\".format(image.shape[1],image.shape[0]))\n",
    "    return image\n",
    "\n",
    "# s3_url = \"\"\n",
    "# image = url_to_image(image_url=s3_url)\n",
    "\n",
    "\n",
    "image = url_to_image(image_url=s3_url)"
   ]
  },
  {
   "cell_type": "code",
   "execution_count": 2,
   "metadata": {},
   "outputs": [],
   "source": [
    "def skewnessDetection(originalImage):\n",
    "    \"\"\"\n",
    "    Returns the angle of the image that is being passed to check the skewness of the form image.\n",
    "    \n",
    "    \"\"\"\n",
    "    try:\n",
    "        print(\"[INFO]: Width of Original Image: {0} and Height of Original Image: {1}\".format(originalImage.shape[0],originalImage.shape[1]))\n",
    "        gray = cv2.cvtColor (originalImage, cv2.COLOR_BGR2GRAY)\n",
    "        gray = cv2.bitwise_not (gray)\n",
    "        # plt.plot()\n",
    "        # plt.imshow(gray)\n",
    "        # cv2.imwrite(\"gray_bitnot.jpg\",gray)\n",
    "\n",
    "        thresh = cv2.threshold (gray, 0, 255, cv2.THRESH_BINARY | cv2.THRESH_OTSU)[1]\n",
    "        coords = np.column_stack (np.where (thresh > 0))\n",
    "        # print('Thresh: {}'.format(thresh))\n",
    "        # print('Coordinates: {}'.format(coords))\n",
    "\n",
    "        angle = cv2.minAreaRect (coords)[-1]\n",
    "        if angle < -45:\n",
    "            angle = -(90 + angle)\n",
    "        else:\n",
    "            angle = -angle\n",
    "\n",
    "        h, w = originalImage.shape[:2]\n",
    "        center = (w // 2, h // 2)\n",
    "        M = cv2.getRotationMatrix2D (center, angle, 1.0)\n",
    "#         print (\"[INFO]: Rotation Matrix for the image is: {}\".format(M))\n",
    "        rotated = cv2.warpAffine(originalImage, M, (w, h), flags = cv2.INTER_CUBIC, borderMode = cv2.BORDER_REPLICATE)\n",
    "        # cv2.imwrite(\"temporaryResults/rotated.jpg\",rotated)\n",
    "        print (\"[INFO] Rotation angle: {}\".format(angle))\n",
    "#         if angle < 0:\n",
    "#             raise Exception(\"Form is rotated. Please scan it again to proceed.\")\n",
    "        # if not -180.0 <= angle <= -179.0 or not 0.0 <= angle <= 0.05:\n",
    "        #     print (\"Form can be process further..\")\n",
    "        # else:\n",
    "        #     print (\"You have not scanned the form properly.\\n Please scan it properly and ensure cropping is done \"\n",
    "        #            \"correctly.\")\n",
    "\n",
    "        # if angle < 0:\n",
    "        #     rotatingAngle = abs (angle) - 180\n",
    "        # else:\n",
    "        #     rotatingAngle = -angle\n",
    "        # # rotatedImage = rotate (originalImage, rotatingAngle, reshape = False)\n",
    "        #\n",
    "        # rotatedImage = rotate(originalImage,-1.07,reshape = False)\n",
    "        # cv2.imwrite (\"temporaryResults/rotated.jpg\", rotated)\n",
    "        # # cv2.imwrite(\"../temporaryResults/newImg-.jpg\", rotatedImage)\n",
    "\n",
    "        print (\"[PROCESS COMPLETION]: Skewness Detection Completed..\")\n",
    "\n",
    "    except AttributeError as e:\n",
    "        print(\"Image not found at specified path.\")\n"
   ]
  },
  {
   "cell_type": "code",
   "execution_count": 7,
   "metadata": {},
   "outputs": [
    {
     "name": "stdout",
     "output_type": "stream",
     "text": [
      "[INFO]: Width of Original Image: 3504 and Height of Original Image: 2480\n",
      "[INFO] Rotation angle: -0.135452270508\n",
      "[PROCESS COMPLETION]: Skewness Detection Completed..\n"
     ]
    }
   ],
   "source": [
    "skewnessDetection(originalImage=image)"
   ]
  },
  {
   "cell_type": "code",
   "execution_count": null,
   "metadata": {},
   "outputs": [],
   "source": []
  },
  {
   "cell_type": "code",
   "execution_count": null,
   "metadata": {},
   "outputs": [],
   "source": []
  },
  {
   "cell_type": "code",
   "execution_count": null,
   "metadata": {},
   "outputs": [],
   "source": []
  },
  {
   "cell_type": "code",
   "execution_count": null,
   "metadata": {},
   "outputs": [],
   "source": []
  }
 ],
 "metadata": {
  "kernelspec": {
   "display_name": "Python 2",
   "language": "python",
   "name": "python2"
  },
  "language_info": {
   "codemirror_mode": {
    "name": "ipython",
    "version": 2
   },
   "file_extension": ".py",
   "mimetype": "text/x-python",
   "name": "python",
   "nbconvert_exporter": "python",
   "pygments_lexer": "ipython2",
   "version": "2.7.15+"
  }
 },
 "nbformat": 4,
 "nbformat_minor": 2
}
