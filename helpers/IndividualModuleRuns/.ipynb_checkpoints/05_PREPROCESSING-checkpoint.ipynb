{
 "cells": [
  {
   "cell_type": "code",
   "execution_count": 1,
   "metadata": {},
   "outputs": [],
   "source": [
    "# importing libraries\n",
    "import numpy as np\n",
    "import cv2"
   ]
  },
  {
   "cell_type": "code",
   "execution_count": 2,
   "metadata": {},
   "outputs": [],
   "source": [
    "def preprocess(img_grey):\n",
    "    #     [RUBBERDUCK] = [Change the path to S3 url where these temporary images will be stored.]\n",
    "    \"\"\"\n",
    "    Function to preprocess the image for image segmentation.\n",
    "    Arguments:\n",
    "        img_grey: GrayScale format of the image to be pre - processed.\n",
    "    \"\"\"\n",
    "    (thresh, img) = cv2.threshold(img_grey, 128, 255, cv2.THRESH_BINARY | cv2.THRESH_OTSU)\n",
    "    kernel = np.ones((2, 2), np.uint8)\n",
    "    img = cv2.erode(img, kernel, iterations=1)\n",
    "\n",
    "    img = cv2.bitwise_not(img)\n",
    "    cv2.imwrite('../temporaryResults/bitwiseNot.jpg', img)\n",
    "\n",
    "    th2 = cv2.adaptiveThreshold(img, 255, cv2.ADAPTIVE_THRESH_MEAN_C, cv2.THRESH_BINARY, 15, -2)\n",
    "    horizontal = th2\n",
    "    rows, cols = horizontal.shape\n",
    "    horizontalsize = int(cols / 45)\n",
    "    horizontalStructure = cv2.getStructuringElement(cv2.MORPH_RECT, (horizontalsize, 1))\n",
    "    horizontal = cv2.erode(horizontal, horizontalStructure, (-1, -1))\n",
    "    horizontal = cv2.dilate(horizontal, horizontalStructure, (-1, -1))\n",
    "    cv2.imwrite(\"../temporaryResults/horizontal.jpg\", horizontal)\n",
    "    #     cv2.waitKey(0)\n",
    "    #     cv2.destroyAllWindows()\n",
    "\n",
    "    # inverse the image, so that lines are black for masking\n",
    "    horizontal_inv = cv2.bitwise_not(horizontal)\n",
    "    # perform bitwise_and to mask the lines with provided mask\n",
    "    masked_img = cv2.bitwise_and(img, img, mask=horizontal_inv)\n",
    "    # reverse the image back to normal\n",
    "    masked_img_inv = cv2.bitwise_not(masked_img)\n",
    "    cv2.imwrite(\"../temporaryResults/temp1.jpg\", masked_img_inv)\n",
    "\n",
    "    # Vertical line removal\n",
    "    img2 = cv2.imread(\"../temporaryResults/temp1.jpg\")\n",
    "    img2 = cv2.cvtColor(img2, cv2.COLOR_BGR2GRAY)\n",
    "\n",
    "    img2 = cv2.bitwise_not(img2)\n",
    "    th3 = cv2.adaptiveThreshold(img2, 255, cv2.ADAPTIVE_THRESH_MEAN_C, cv2.THRESH_BINARY, 15, -2)\n",
    "    vertical = th3\n",
    "    verticalsize = int(rows / 70)\n",
    "    verticalStructure = cv2.getStructuringElement(cv2.MORPH_RECT, (1, verticalsize))\n",
    "    vertical = cv2.erode(vertical, verticalStructure, (-1, -1))\n",
    "    vertical = cv2.dilate(vertical, verticalStructure, (-1, -1))\n",
    "    cv2.imwrite(\"../temporaryResults/vertical.jpg\", vertical)\n",
    "\n",
    "    vertical_inv = cv2.bitwise_not(vertical)\n",
    "    # perform bitwise_and to mask the lines with provided mask\n",
    "    masked_img2 = cv2.bitwise_and(img2, img2, mask=vertical_inv)\n",
    "    # reverse the image back to normal\n",
    "    masked_img_inv2 = cv2.bitwise_not(masked_img2)\n",
    "    # cv2.imshow(\"vertical_bitwise_not\", vertical)\n",
    "    cv2.imwrite(\"../temporaryResults/temp2.jpg\", masked_img_inv2)\n",
    "\n",
    "    # Remove spots from the final output\n",
    "    image = cv2.imread('../temporaryResults/temp2.jpg')\n",
    "    # Denoising spots\n",
    "    # image = cv2.fastNlMeansDenoisingColored(image,None,10,10,7,30)\n",
    "    img_bw = 255 * (cv2.cvtColor(image, cv2.COLOR_BGR2GRAY) > 5).astype('uint8')\n",
    "    se1 = cv2.getStructuringElement(cv2.MORPH_RECT, (5, 5))\n",
    "    se2 = cv2.getStructuringElement(cv2.MORPH_RECT, (2, 2))\n",
    "    img_mask = cv2.morphologyEx(img_bw, cv2.MORPH_CLOSE, se1)\n",
    "    img_mask = cv2.morphologyEx(img_mask, cv2.MORPH_OPEN, se2)\n",
    "\n",
    "    img_mask = np.dstack([img_mask, img_mask, img_mask]) / 255\n",
    "    output = image * img_mask\n",
    "    cv2.imwrite('../temporaryResults/output.png', output)\n",
    "    print(\"Preprocessing Completed..!\")\n",
    "#     cv2.waitKey(0)\n",
    "#     cv2.destroyAllWindows()\n"
   ]
  },
  {
   "cell_type": "code",
   "execution_count": null,
   "metadata": {},
   "outputs": [],
   "source": [
    "image = cv2.imread(\"../temporaryResults/cropped.jpg\",0)\n",
    "preprocess(img_grey = image)"
   ]
  }
 ],
 "metadata": {
  "kernelspec": {
   "display_name": "Python 2",
   "language": "python",
   "name": "python2"
  },
  "language_info": {
   "codemirror_mode": {
    "name": "ipython",
    "version": 2
   },
   "file_extension": ".py",
   "mimetype": "text/x-python",
   "name": "python",
   "nbconvert_exporter": "python",
   "pygments_lexer": "ipython2",
   "version": "2.7.15+"
  }
 },
 "nbformat": 4,
 "nbformat_minor": 2
}
