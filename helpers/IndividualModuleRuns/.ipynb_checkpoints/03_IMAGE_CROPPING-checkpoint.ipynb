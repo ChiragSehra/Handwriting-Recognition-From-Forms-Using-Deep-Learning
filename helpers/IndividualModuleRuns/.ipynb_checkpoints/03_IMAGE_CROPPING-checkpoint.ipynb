{
 "cells": [
  {
   "cell_type": "code",
   "execution_count": 8,
   "metadata": {},
   "outputs": [],
   "source": [
    "import cv2"
   ]
  },
  {
   "cell_type": "code",
   "execution_count": 9,
   "metadata": {},
   "outputs": [],
   "source": [
    "# Contour Sorting\n",
    "def sort_contours(cnts, method=\"left-to-right\"):\n",
    "    reverse = False\n",
    "    i = 0\n",
    "    if method == \"right-to-left\" or method == \"bottom-to-top\":\n",
    "        reverse = True\n",
    "\n",
    "    if method == \"top-to-bottom\" or method == \"bottom-to-top\":\n",
    "        i = 1\n",
    "\n",
    "    boundingBoxes = [cv2.boundingRect (c) for c in cnts]\n",
    "    (cnts, boundingBoxes) = zip (*sorted (zip (cnts, boundingBoxes), key = lambda b: b[1][i], reverse = reverse))\n",
    "    return cnts, boundingBoxes"
   ]
  },
  {
   "cell_type": "code",
   "execution_count": 14,
   "metadata": {},
   "outputs": [],
   "source": [
    "def imageCropping(image):\n",
    "    \n",
    "    gray_img = cv2.cvtColor (image, cv2.COLOR_BGR2GRAY)\n",
    "    thresh, img_bin = cv2.threshold (gray_img, 128, 255, cv2.THRESH_BINARY | cv2.THRESH_OTSU)\n",
    "    # print (img_bin)\n",
    "    img_bin = 255 - img_bin\n",
    "    # img_bin = cv2.bitwise_not(img_bin)\n",
    "    cv2.imwrite(\"../../temporaryResults/binary_image.jpg\", img_bin)  # [MAIN-RUN]\n",
    "    print(\"[INFO]: Writing the binary image on disk...\")\n",
    "\n",
    "    # print(np.array(img).shape)\n",
    "\n",
    "    # performing morphological operations\n",
    "\n",
    "    kernel_length = 5\n",
    "    vertical_kernel = cv2.getStructuringElement (cv2.MORPH_RECT, (1, kernel_length))\n",
    "    hori_kernel = cv2.getStructuringElement (cv2.MORPH_RECT, (kernel_length, 1))\n",
    "    kernel = cv2.getStructuringElement (cv2.MORPH_RECT, (3, 3))\n",
    "\n",
    "    img_temp1 = cv2.erode (img_bin, vertical_kernel, iterations = 10)\n",
    "    vertical_lines_image = cv2.dilate (img_temp1, vertical_kernel, iterations = 10)\n",
    "\n",
    "    print (\"[INFO]: Writing the binary vertical lines image on disk...\")\n",
    "    cv2.imwrite (\"../../temporaryResults/binary_vertical_lines.jpg\", vertical_lines_image)  # [INDIVIDUAL-FILE RUN]\n",
    "\n",
    "    img_temp2 = cv2.erode (img_bin, hori_kernel, iterations = 10)\n",
    "    horizontal_lines_image = cv2.dilate (img_temp2, hori_kernel, iterations = 10)\n",
    "\n",
    "    print (\"[INFO]: Writing the binary horizontal lines image on disk...\")\n",
    "    cv2.imwrite (\"../../temporaryResults/binary_horizontal_lines.jpg\", horizontal_lines_image)  # [INDIVIDUAL-FILE RUN]\n",
    "\n",
    "    alpha, beta = 0.5, 1 - 0.5\n",
    "    image_final_bin = cv2.addWeighted (vertical_lines_image, alpha, horizontal_lines_image, beta, 0.0)\n",
    "    image_final_bin = cv2.erode (~image_final_bin, kernel, iterations = 3)\n",
    "\n",
    "    (thresh, image_final_bin) = cv2.threshold (image_final_bin, 128, 255, cv2.THRESH_BINARY | cv2.THRESH_OTSU)\n",
    "    cv2.imwrite (\"../../temporaryResults/final_binary_image.jpg\", image_final_bin)  # [MAIN-RUN]\n",
    "    print (\"[INFO]: Writing the final binary image file on disk...\")\n",
    "\n",
    "    contours, heirarchy = cv2.findContours (image_final_bin, cv2.RETR_TREE, cv2.CHAIN_APPROX_SIMPLE)\n",
    "    contours, boundingBoxes = sort_contours (contours)  # , method = \"top-to-bottom\"\n",
    "\n",
    " \n",
    "    idx = 0\n",
    "    for c in contours:\n",
    "        x, y, w, h = cv2.boundingRect (c)\n",
    "#         print (\"[LOG]: ALL => X: {0},Y: {1}, W: {2}, H: {3}\".format (x, y, w, h))\n",
    "        # if w > 4000 and h > 5000:\n",
    "        if w > 2000 and h > 3000:\n",
    "#             print (\"[LOG]: Inside If => X: {0},Y: {1}, W: {2}, H: {3}\".format (x, y, w, h))\n",
    "            idx += 1\n",
    "            new_img = gray_img[y:y + h, x:x + w]\n",
    "            # cv2.imwrite(\"temporaryResults/cropped.jpg\", new_img)  # main\n",
    "            cv2.imwrite (\"../../temporaryResults/cropped.jpg\", new_img)  # [INDIVIDUAL-FILE RUN]\n",
    "#             print(\"[INFO]: File Cropped..!\")\n",
    "\n",
    "            # throw error if image has any black line in image\n",
    "            if (w < 4000 and h > 6000) or (w > 4000 and h < 4000):\n",
    "#                 print (\"[ERROR]: This image has potential chances of containing a black line in between of the image.\")\n",
    "                raise Exception(\"[IMAGE NOT SCANNED PROPERLY]: This image has potential chances of containing a black line in between of the image.\")\n",
    "    print (\"[PROCESS COMPLETION]: Image Cropping Completed..\")\n"
   ]
  },
  {
   "cell_type": "code",
   "execution_count": 15,
   "metadata": {},
   "outputs": [
    {
     "name": "stdout",
     "output_type": "stream",
     "text": [
      "Width and Height of Original Image are :  2480 and 3504\n",
      "[INFO]: Writing the binary image on disk...\n",
      "[INFO]: Writing the binary vertical lines image on disk...\n",
      "[INFO]: Writing the binary horizontal lines image on disk...\n",
      "[INFO]: Writing the final binary image file on disk...\n",
      "[PROCESS COMPLETION]: Image Cropping Completed..\n"
     ]
    }
   ],
   "source": [
    "s3_url = \"https://s3-ap-southeast-1.amazonaws.com/cdn.buddy4study.com/static/user_docs/2019/09/07/2092561/SCAN22147EGHYE.JPG\"\n",
    "\n",
    "## Importing libraries\n",
    "import numpy as np\n",
    "# import urllib.request\n",
    "from urllib import urlopen\n",
    "import cv2\n",
    "\n",
    "\n",
    "# METHOD #1: OpenCV, NumPy, and urllib\n",
    "def url_to_image(image_url):\n",
    "    # download the image, convert it to a NumPy array, and then read\n",
    "    # it into OpenCV format\n",
    "    resp = urlopen(image_url)\n",
    "    image = np.asarray(bytearray(resp.read()), dtype=\"uint8\")\n",
    "    image = cv2.imdecode(image, cv2.IMREAD_COLOR)\n",
    "    print(\"Width and Height of Original Image are :  {0} and {1}\".format(image.shape[1],image.shape[0]))\n",
    "    return image\n",
    "\n",
    "# s3_url = \"\"\n",
    "# image = url_to_image(image_url=s3_url)\n",
    "\n",
    "\n",
    "img = url_to_image(image_url=s3_url)\n",
    "\n",
    "imageCropping (image = img)\n"
   ]
  },
  {
   "cell_type": "code",
   "execution_count": null,
   "metadata": {},
   "outputs": [],
   "source": []
  }
 ],
 "metadata": {
  "kernelspec": {
   "display_name": "Python 2",
   "language": "python",
   "name": "python2"
  },
  "language_info": {
   "codemirror_mode": {
    "name": "ipython",
    "version": 2
   },
   "file_extension": ".py",
   "mimetype": "text/x-python",
   "name": "python",
   "nbconvert_exporter": "python",
   "pygments_lexer": "ipython2",
   "version": "2.7.15+"
  }
 },
 "nbformat": 4,
 "nbformat_minor": 2
}
