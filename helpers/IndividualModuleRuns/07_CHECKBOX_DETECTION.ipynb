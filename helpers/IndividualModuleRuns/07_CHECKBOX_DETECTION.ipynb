{
 "cells": [
  {
   "cell_type": "code",
   "execution_count": 9,
   "metadata": {},
   "outputs": [],
   "source": [
    "import numpy as np\n",
    "import cv2\n",
    "import os\n",
    "\n",
    "\n",
    "def checkboxDetection(side, user_id):\n",
    "    mainDict = dict()\n",
    "    front_form_checkbox_folders = [\n",
    "        'gender',\n",
    "        'number_of_brothers_sisters',\n",
    "        'religion',\n",
    "        'category',\n",
    "        'special_cases',\n",
    "        'talent_areas',\n",
    "        'awards',\n",
    "        'present_class',\n",
    "        'present_class_stream',\n",
    "        'mode_of_course',\n",
    "        'type_of_student'\n",
    "    ]\n",
    "\n",
    "    back_form_checkbox_folders = [\n",
    "        'class_10_board',\n",
    "        'class_12_board',\n",
    "        'class_12_stream',\n",
    "        'graduation_stream',\n",
    "        'graduation_course_duration',\n",
    "        'post_graduation_stream',\n",
    "        'post_graduation_course_duration',\n",
    "        'no_bank_account'\n",
    "    ]\n",
    "    rootDir = \"../../temporaryResults/imageSegmented/\"\n",
    "\n",
    "    if side == 'front':\n",
    "        checkbox_folders = front_form_checkbox_folders\n",
    "    if side == 'back':\n",
    "        checkbox_folders = back_form_checkbox_folders\n",
    "    for i in checkbox_folders:\n",
    "        folderPath = rootDir + user_id + \"/\" + str(i)\n",
    "        #     print(folderPath)\n",
    "\n",
    "        for complete_path, directories, files in os.walk(folderPath):\n",
    "            #     print(\"Complete Path: {}\".format(complete_path))\n",
    "            #         print(\"directories: {}\".format(directories))\n",
    "            #     print(\"Files: {}\".format(files))\n",
    "            for filename in files:\n",
    "                #             print(\"Filename: {}\\n\".format(filename))\n",
    "                file_complete_path = folderPath + \"/\" + filename\n",
    "                #             print(\"file to read: {}\\n\".format(file_complete_path))\n",
    "                image = cv2.imread(file_complete_path)\n",
    "\n",
    "                temp = np.sum(image == 255)\n",
    "                #             print(temp)\n",
    "                if temp > 3000:\n",
    "                    createCheckbox = True\n",
    "                    headOfCompletePath, tailOfCompletePath = os.path.split (file_complete_path)\n",
    "                    #                 print(\"head: {}\".format(headOfCompletePath))\n",
    "                    #                 print(\"tail: {}\".format(tailOfCompletePath))\n",
    "                    actual_folder = headOfCompletePath.rsplit (\"/\")[-1]\n",
    "                    actual_value = (tailOfCompletePath.rsplit (\".\")[0]).rsplit(\"_\")[-1]\n",
    "                    #                 print(\"Actual Folder: {}\".format(actual_folder))\n",
    "                    #                 print(\"Actual Value : {}\".format(actual_value))\n",
    "\n",
    "                    # append value if folder already exists\n",
    "                    if actual_folder in mainDict.keys ():\n",
    "                        mainDict[actual_folder] += \",\" + actual_value\n",
    "                    else:\n",
    "                        mainDict[actual_folder] = actual_value\n",
    "                        \n",
    "                    mainDict[actual_folder+\"_CONFIDENCE\"] = 100.0\n",
    "    print(\"[PROCESS COMPLETION]: Checkbox Detection Complete..!\")\n",
    "    return mainDict\n"
   ]
  },
  {
   "cell_type": "code",
   "execution_count": 10,
   "metadata": {},
   "outputs": [
    {
     "name": "stdout",
     "output_type": "stream",
     "text": [
      "[PROCESS COMPLETION]: Checkbox Detection Complete..!\n"
     ]
    }
   ],
   "source": [
    "c = checkboxDetection(side=\"front\", user_id=\"2074896\")"
   ]
  },
  {
   "cell_type": "code",
   "execution_count": 11,
   "metadata": {},
   "outputs": [
    {
     "data": {
      "text/plain": [
       "{'category': 'general',\n",
       " 'category_CONFIDENCE': 100.0,\n",
       " 'gender': 'female',\n",
       " 'gender_CONFIDENCE': 100.0,\n",
       " 'mode_of_course': 'parttime',\n",
       " 'mode_of_course_CONFIDENCE': 100.0,\n",
       " 'number_of_brothers_sisters': '1',\n",
       " 'number_of_brothers_sisters_CONFIDENCE': 100.0,\n",
       " 'present_class': '11',\n",
       " 'present_class_CONFIDENCE': 100.0,\n",
       " 'present_class_stream': 'textfield,commerce,arts',\n",
       " 'present_class_stream_CONFIDENCE': 100.0,\n",
       " 'religion': 'hindu',\n",
       " 'religion_CONFIDENCE': 100.0,\n",
       " 'type_of_student': 'studentdayscholar',\n",
       " 'type_of_student_CONFIDENCE': 100.0}"
      ]
     },
     "execution_count": 11,
     "metadata": {},
     "output_type": "execute_result"
    }
   ],
   "source": [
    "c"
   ]
  },
  {
   "cell_type": "code",
   "execution_count": null,
   "metadata": {},
   "outputs": [],
   "source": []
  }
 ],
 "metadata": {
  "kernelspec": {
   "display_name": "Python 2",
   "language": "python",
   "name": "python2"
  },
  "language_info": {
   "codemirror_mode": {
    "name": "ipython",
    "version": 2
   },
   "file_extension": ".py",
   "mimetype": "text/x-python",
   "name": "python",
   "nbconvert_exporter": "python",
   "pygments_lexer": "ipython2",
   "version": "2.7.15+"
  }
 },
 "nbformat": 4,
 "nbformat_minor": 2
}
