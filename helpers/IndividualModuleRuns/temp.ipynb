{
 "cells": [
  {
   "cell_type": "code",
   "execution_count": 16,
   "metadata": {},
   "outputs": [],
   "source": [
    "from google.cloud import vision\n",
    "import io\n",
    "import os\n",
    "from google.oauth2 import service_account\n",
    "import cv2\n",
    "import numpy as np\n",
    "import unicodedata\n",
    "import re\n"
   ]
  },
  {
   "cell_type": "code",
   "execution_count": 17,
   "metadata": {},
   "outputs": [],
   "source": [
    "all_json = list()\n",
    "def detect_document(path):\n",
    "    \"\"\"\n",
    "    Detects document features in an image.\n",
    "    Arguments:\n",
    "        path: path to the image file for which characters has to be detected\n",
    "    \"\"\"\n",
    "\n",
    "    creds = service_account.Credentials.from_service_account_file('../../credentials/Character Detection-208f08e77e7d.json')\n",
    "    client = vision.ImageAnnotatorClient(\n",
    "        credentials=creds\n",
    "    )\n",
    "\n",
    "    with io.open(path, 'rb') as image_file:\n",
    "        content = image_file.read()\n",
    "\n",
    "    field = path.rsplit(\"/\")[-2]\n",
    "    image = vision.types.Image(content=content)\n",
    "    all_blocks = []\n",
    "    response = client.document_text_detection(image=image)\n",
    "    #     print(client)\n",
    "    #     print(\"Response: {}\".format(response))\n",
    "\n",
    "    for page in response.full_text_annotation.pages:\n",
    "        for block in page.blocks:\n",
    "            block_info = {\"Block_Confidence\": block.confidence, \"Paragraphs\": []}\n",
    "            #             print('\\nBlock confidence: {}\\n'.format(block.confidence))\n",
    "\n",
    "            for paragraph in block.paragraphs:\n",
    "                paragraph_info = {\"Paragraph_Confidence\": paragraph.confidence, \"Words\": []}\n",
    "                #                 print('Paragraph confidence: {}'.format(\n",
    "                #                     paragraph.confidence))\n",
    "\n",
    "                for word in paragraph.words:\n",
    "                    word_text = ''.join([\n",
    "                        symbol.text for symbol in word.symbols\n",
    "                    ])\n",
    "                    word_info = {\"Word_Text\": word_text, \"Word_Confidence\": word.confidence, \"Symbols\": []}\n",
    "\n",
    "                    #                     print('Word text: {} (confidence: {})'.format(\n",
    "                    #                         word_text, word.confidence))\n",
    "\n",
    "                    for symbol in word.symbols:\n",
    "                        symbol_info = {'Symbol_Text': symbol.text, 'Symbol_Confidence': symbol.confidence}\n",
    "                        word_info[\"Symbols\"].append(symbol_info)\n",
    "                    #                         print('\\tSymbol: {} (confidence: {})'.format(\n",
    "                    #                             symbol.text, symbol.confidence))\n",
    "\n",
    "                    paragraph_info[\"Words\"].append(word_info)\n",
    "                block_info[\"Paragraphs\"].append(paragraph_info)\n",
    "            all_blocks.append(block_info)\n",
    "\n",
    "    data_list = []\n",
    "\n",
    "    for rows in all_blocks:\n",
    "        result = {}\n",
    "        #         if \"Block_Confidence\" in rows and rows[\"Block_Confidence\"]:\n",
    "        #             result[\"block_confidence\"] = rows[\"Block_Confidence\"]\n",
    "        if \"Paragraphs\" in rows and len(rows[\"Paragraphs\"]) > 0:\n",
    "            for paragraphs in rows[\"Paragraphs\"]:\n",
    "                if \"Words\" in paragraphs and len(paragraphs[\"Words\"]) > 0:\n",
    "                    word_confidence = []\n",
    "                    word_text = []\n",
    "                    for words in paragraphs[\"Words\"]:\n",
    "                        if \"Word_Confidence\" in words and words[\"Word_Confidence\"] is not None:\n",
    "                            word_confidence.append(words[\"Word_Confidence\"])\n",
    "                        if \"Word_Text\" in words and words[\"Word_Text\"] is not None:\n",
    "                            word_text.append(words[\"Word_Text\"])\n",
    "                result[\"word_confidence\"] = min(word_confidence)\n",
    "                result[\"word_text\"] = \"_\".join(word_text)\n",
    "                result[\"field\"] = field\n",
    "        data_list.append(result)\n",
    "    #     print(data_list)\n",
    "    fields = np.unique(([li['field'] for li in data_list]))\n",
    "\n",
    "    word_text = list([li['word_text'] for li in data_list])\n",
    "    # average word confidence\n",
    "    word_confidences = sum([li['word_confidence'] for li in data_list]) / len(\n",
    "        [li['word_confidence'] for li in data_list])\n",
    "    final_word_text = ''.join(word_text)\n",
    "\n",
    "    result['field'] = fields[0]\n",
    "    s = unicodedata.normalize('NFKD', final_word_text).encode('ascii', 'ignore')\n",
    "    s = s.decode('utf-8')\n",
    "    result['word_text'] = re.sub(r\"[^a-zA-Z0-9]+\", ' ', s).strip()\n",
    "    result['word_confidence'] = word_confidences\n",
    "\n",
    "    # all_json.append (result.copy ())\n",
    "    # # print (result)\n",
    "\n",
    "    return result"
   ]
  },
  {
   "cell_type": "code",
   "execution_count": 31,
   "metadata": {},
   "outputs": [],
   "source": [
    "def documentDetection(userId, form_side):\n",
    "    l = []\n",
    "    # user_id = url.rsplit(\"/\")[-2]\n",
    "    user_id = userId\n",
    "    # user_id = \"Sarita\"\n",
    "    rootDir = \"../../temporaryResults/imageSegmented/\" + user_id + \"/\"\n",
    "\n",
    "    # creating a list of folders that exist in the root directory\n",
    "    folderInPath = []\n",
    "    imageFiles = []\n",
    "    for a, b, c in os.walk(rootDir):\n",
    "        #     print(\"directories: {}\".format(b))\n",
    "        #     print(\"filename {}\".format(c))\n",
    "        folderInPath.append(b)\n",
    "    # print(folderInPath[0])\n",
    "\n",
    "    # #creatng a list of images that have the same name as folder name i.e. the files that have been stitched\n",
    "    # print(folderInPath)\n",
    "    for a in folderInPath[0]:\n",
    "        a = a + \".jpg\"\n",
    "        #     print(a)\n",
    "        imageFiles.append(a)\n",
    "\n",
    "    # print(\"imageFiles contain: {}\".format(imageFiles))\n",
    "\n",
    "    # print(imageFiles)\n",
    "    ls = []\n",
    "    for a, b, c in os.walk(rootDir):\n",
    "        for i in imageFiles:\n",
    "            if i in c:\n",
    "                try:\n",
    "                    print(i)\n",
    "                    img = cv2.imread(a + '/' + i)\n",
    "                    #             plt.figure()\n",
    "                    #             plt.imshow(img)\n",
    "                    #                 print(i.rsplit(\".\")[0])\n",
    "                    ls.append(detect_document(a + '/' + i))\n",
    "                except Exception as e:\n",
    "                    print(str(e))\n",
    "    return ls"
   ]
  },
  {
   "cell_type": "code",
   "execution_count": 36,
   "metadata": {},
   "outputs": [
    {
     "name": "stdout",
     "output_type": "stream",
     "text": [
      "../../temporaryResults/imageSegmented/2092561/\n"
     ]
    }
   ],
   "source": [
    "l = []\n",
    "user_id = \"2092561\"\n",
    "rootDir = \"../../temporaryResults/imageSegmented/\" + user_id + \"/\""
   ]
  },
  {
   "cell_type": "code",
   "execution_count": 41,
   "metadata": {
    "scrolled": false
   },
   "outputs": [],
   "source": [
    "front_folder_list = [\n",
    "'first_name','last_name','date_of_birth','aadhar_number','present_address','student_mobile_number','email','disability','percentage_of_disability','father_first_name','father_last_name','father_occupation','father_mobile_number','father_annual_income','father_email_id','mother_first_name','mother_last_name','mother_occupation','mother_annual_income','mother_email_id','mother_mobile_number','annual_fee','previous_class_passing_year','marks_obtained','total_marks'\n",
    "]\n",
    "\n",
    "back_folder_list = [\n",
    "    'class_10_passing_year','class_10_total_marks','class_10_marks_obtained','class_12_passing_year','class_12_total_marks','class_12_marks_obtained','graduation_total_marks','graduation_marks_obtained','graduation_passing_year','post_graduation_total_marks','post_graduation_marks_obtained','post_graduation_passing_year','bank_name','ifsc_code','account_number','account_holder_name','relation_with_account_holder'\n",
    "]"
   ]
  },
  {
   "cell_type": "code",
   "execution_count": 52,
   "metadata": {},
   "outputs": [
    {
     "name": "stdout",
     "output_type": "stream",
     "text": [
      "imageFiles contain: ['class_10_passing_year.jpg', 'class_10_total_marks.jpg', 'class_10_marks_obtained.jpg', 'class_12_passing_year.jpg', 'class_12_total_marks.jpg', 'class_12_marks_obtained.jpg', 'graduation_total_marks.jpg', 'graduation_marks_obtained.jpg', 'graduation_passing_year.jpg', 'post_graduation_total_marks.jpg', 'post_graduation_marks_obtained.jpg', 'post_graduation_passing_year.jpg', 'bank_name.jpg', 'ifsc_code.jpg', 'account_number.jpg', 'account_holder_name.jpg', 'relation_with_account_holder.jpg', 'no_bank_account.jpg']\n"
     ]
    }
   ],
   "source": [
    "imageFiles = []\n",
    "form_side=\"back\"\n",
    "if form_side==\"front\":\n",
    "    folderList = front_folder_list\n",
    "if form_side==\"back\":\n",
    "    folderList = back_folder_list\n",
    "\n",
    "for a in folderList:\n",
    "    a = a + \".jpg\"\n",
    "    #     print(a)\n",
    "    imageFiles.append(a)\n",
    "\n",
    "print(\"imageFiles contain: {}\".format(imageFiles))\n"
   ]
  },
  {
   "cell_type": "code",
   "execution_count": null,
   "metadata": {},
   "outputs": [],
   "source": [
    "ls = []\n",
    "for a, b, c in os.walk(rootDir):\n",
    "    for i in imageFiles:\n",
    "        if i in c:\n",
    "            try:\n",
    "                print(i)\n",
    "                img = cv2.imread(a + '/' + i)\n",
    "                #             plt.figure()\n",
    "                #             plt.imshow(img)\n",
    "                #                 print(i.rsplit(\".\")[0])\n",
    "                ls.append(detect_document(a + '/' + i))\n",
    "            except Exception as e:\n",
    "                print(str(e))\n",
    "return ls"
   ]
  },
  {
   "cell_type": "code",
   "execution_count": null,
   "metadata": {},
   "outputs": [],
   "source": []
  },
  {
   "cell_type": "code",
   "execution_count": null,
   "metadata": {},
   "outputs": [],
   "source": []
  },
  {
   "cell_type": "code",
   "execution_count": null,
   "metadata": {},
   "outputs": [],
   "source": []
  }
 ],
 "metadata": {
  "kernelspec": {
   "display_name": "Python 2",
   "language": "python",
   "name": "python2"
  },
  "language_info": {
   "codemirror_mode": {
    "name": "ipython",
    "version": 2
   },
   "file_extension": ".py",
   "mimetype": "text/x-python",
   "name": "python",
   "nbconvert_exporter": "python",
   "pygments_lexer": "ipython2",
   "version": "2.7.15+"
  }
 },
 "nbformat": 4,
 "nbformat_minor": 2
}
