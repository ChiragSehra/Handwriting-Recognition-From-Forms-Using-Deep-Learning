{
 "cells": [
  {
   "cell_type": "code",
   "execution_count": 1,
   "metadata": {},
   "outputs": [],
   "source": [
    "import numpy as np\n",
    "import cv2\n",
    "import os"
   ]
  },
  {
   "cell_type": "code",
   "execution_count": 2,
   "metadata": {},
   "outputs": [],
   "source": [
    "# back side form left\n",
    "def imageStitching(userId):\n",
    "    rootDir = \"../temporaryResults/imageSegmented/\"\n",
    "    user_id = userId\n",
    "    folders_90_109 = ['first_name', 'last_name', 'aadhar_number', 'present_address', 'student_mobile_number',\n",
    "                      'email', 'disability', 'percentage_of_disability', 'father_first_name', 'father_last_name',\n",
    "                      'father_occupation','father_mobile_number', 'father_annual_income', 'father_email_id',\n",
    "                      'mother_first_name','mother_last_name','mother_occupation', 'mother_mobile_number',\n",
    "                      'mother_annual_income', 'mother_email_id', 'annual_fee','previous_class_passing_year',\n",
    "                      'marks_obtained', 'total_marks']\n",
    "\n",
    "    for i in folders_90_109[:]:\n",
    "        globalImage = np.zeros ((90, 109))\n",
    "        for a, b, c in os.walk (rootDir + user_id + \"/\" + i):\n",
    "            sortedList = sorted (c, key = lambda x: int (x.split ('.')[0].split ('_')[-1]))\n",
    "            #         print(sortedList)\n",
    "            for f in sortedList:\n",
    "                img = cv2.imread (rootDir + user_id + '/' + i + '/' + str (f), 0)\n",
    "                globalImage = np.concatenate ((globalImage, img), axis = 1)\n",
    "            #             plt.figure()\n",
    "            #             plt.imshow(globalImage)\n",
    "            #         print(\"file is being saved to: {}\".format(rootDir+i+'/'+i))\n",
    "            cv2.imwrite (rootDir + user_id + '/' + i + '/' + i + '.jpg', globalImage)\n",
    "            print (\"Saving File to {}...\".format (rootDir + user_id + '/' + i + '/' + i + '.jpg'))\n",
    "\n",
    "\n",
    "    folders_112_95 = ['date_of_birth']\n",
    "\n",
    "    for i in folders_112_95[:]:\n",
    "        globalImage = np.zeros((95,112))\n",
    "        for a,b,c in os.walk(rootDir+user_id+\"/\"+i):\n",
    "            sortedList = sorted(c,key=lambda x: int(x.split('.')[0].split('_')[-1]))\n",
    "    #         print(sortedList)\n",
    "            for f in sortedList:\n",
    "                img = cv2.imread(rootDir +user_id+'/'+ i + '/' + str(f), 0)\n",
    "                globalImage = np.concatenate((globalImage, img), axis=1)\n",
    "    #             plt.figure()\n",
    "    #             plt.imshow(globalImage)\n",
    "    #         print(\"file is being saved to: {}\".format(rootDir+i+'/'+i))\n",
    "            cv2.imwrite(rootDir + user_id+'/'+i + '/' + i + '.jpg', globalImage)\n",
    "            print(\"Saving File to {}...\".format(rootDir +user_id+'/'+ i + '/' + i + '.jpg'))"
   ]
  },
  {
   "cell_type": "code",
   "execution_count": null,
   "metadata": {},
   "outputs": [],
   "source": [
    "user_id = \"Sarita\"\n",
    "imageStitching(userId=user_id)"
   ]
  }
 ],
 "metadata": {
  "kernelspec": {
   "display_name": "Python 2",
   "language": "python",
   "name": "python2"
  },
  "language_info": {
   "codemirror_mode": {
    "name": "ipython",
    "version": 2
   },
   "file_extension": ".py",
   "mimetype": "text/x-python",
   "name": "python",
   "nbconvert_exporter": "python",
   "pygments_lexer": "ipython2",
   "version": "2.7.15+"
  }
 },
 "nbformat": 4,
 "nbformat_minor": 2
}
